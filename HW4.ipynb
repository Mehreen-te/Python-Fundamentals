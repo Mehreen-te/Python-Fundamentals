{
 "cells": [
  {
   "cell_type": "markdown",
   "id": "8f66307e",
   "metadata": {},
   "source": [
    "# Perfect Square"
   ]
  },
  {
   "cell_type": "code",
   "execution_count": 1,
   "id": "500b1d0a",
   "metadata": {},
   "outputs": [
    {
     "name": "stdout",
     "output_type": "stream",
     "text": [
      "true\n"
     ]
    }
   ],
   "source": [
    "num = 1\n",
    "sq = []\n",
    "yn = 0\n",
    "for i in range(1,num+1):\n",
    "    if num%i == 0:\n",
    "        sq.append(i)\n",
    "    for element in sq:\n",
    "        if element*element == num:\n",
    "            yn=1\n",
    "    if yn==1:\n",
    "        print(\"true\")\n",
    "    else:\n",
    "        print(\"false\")"
   ]
  },
  {
   "cell_type": "code",
   "execution_count": 2,
   "id": "93974f33",
   "metadata": {},
   "outputs": [
    {
     "name": "stdout",
     "output_type": "stream",
     "text": [
      "True\n"
     ]
    }
   ],
   "source": [
    "num = 1\n",
    "yn = 0\n",
    "while (yn==0):\n",
    "    for i in range(1,num+1):\n",
    "        if num%i == 0 and i*i == num:\n",
    "            yn=1\n",
    "print(yn==1)"
   ]
  },
  {
   "cell_type": "code",
   "execution_count": 3,
   "id": "50fcaed7",
   "metadata": {},
   "outputs": [
    {
     "name": "stdout",
     "output_type": "stream",
     "text": [
      "False\n"
     ]
    }
   ],
   "source": [
    "num =14\n",
    "yn = 0\n",
    "for i in range(1,(num+1)//2):\n",
    "        if num%i == 0 and i*i == num:\n",
    "            yn=1\n",
    "        if yn==1:\n",
    "            break\n",
    "print(yn == 1)"
   ]
  },
  {
   "cell_type": "code",
   "execution_count": 4,
   "id": "9832a59d",
   "metadata": {},
   "outputs": [
    {
     "name": "stdout",
     "output_type": "stream",
     "text": [
      "True\n"
     ]
    }
   ],
   "source": [
    "num = 1\n",
    "yn = 0\n",
    "while (yn==0):\n",
    "    for i in range(1,num+1):\n",
    "        if num%i == 0 and i*i == num:\n",
    "            yn=1\n",
    "print(yn==1)"
   ]
  },
  {
   "cell_type": "code",
   "execution_count": 1,
   "id": "a4156acd",
   "metadata": {},
   "outputs": [
    {
     "name": "stdout",
     "output_type": "stream",
     "text": [
      "True\n"
     ]
    }
   ],
   "source": [
    "num=1\n",
    "sqrt=int(num**0.5)\n",
    "print (sqrt**2==num)"
   ]
  },
  {
   "cell_type": "markdown",
   "id": "a04ea4fc",
   "metadata": {},
   "source": [
    "# Max Product"
   ]
  },
  {
   "cell_type": "code",
   "execution_count": 13,
   "id": "54e48c0a",
   "metadata": {},
   "outputs": [
    {
     "name": "stdout",
     "output_type": "stream",
     "text": [
      "[4, 3, 2]\n",
      "24\n"
     ]
    }
   ],
   "source": [
    "# wont work with neg numbers, time++\n",
    "\n",
    "numslist = []\n",
    "nums = [1,2,3,4]\n",
    "\n",
    "for i in range(3):\n",
    "    n_max = max(nums)\n",
    "    nums.remove(n_max)\n",
    "    numslist.append(n_max)\n",
    "    i=i+1\n",
    "print(numslist)\n",
    "product  = numslist[0]*numslist[1]*numslist[2]\n",
    "print(product)\n"
   ]
  },
  {
   "cell_type": "code",
   "execution_count": 26,
   "id": "8a423eca",
   "metadata": {},
   "outputs": [
    {
     "name": "stdout",
     "output_type": "stream",
     "text": [
      "3\n"
     ]
    }
   ],
   "source": [
    "nums=[1,2,-3,-4,-5]\n",
    "neg=sum([x<0 for x in nums])\n",
    "print(neg)\n",
    "nums.sort()"
   ]
  },
  {
   "cell_type": "code",
   "execution_count": 24,
   "id": "c4343ef6",
   "metadata": {},
   "outputs": [
    {
     "name": "stdout",
     "output_type": "stream",
     "text": [
      "36\n"
     ]
    }
   ],
   "source": [
    "nums=[-2,1,6,3,-3]\n",
    "numlist=[]\n",
    "nums=sorted(nums)\n",
    "for i in (nums):\n",
    "    max1=nums[-1]*nums[0]*nums[1]\n",
    "    max2=nums[-3]*nums[-2]*nums[-1]\n",
    "nums=max1\n",
    "if max1<max2:\n",
    "    nums=max2\n",
    "\n",
    "print (nums)"
   ]
  },
  {
   "cell_type": "markdown",
   "id": "a89a4271",
   "metadata": {},
   "source": [
    "# Array Shuffle"
   ]
  },
  {
   "cell_type": "code",
   "execution_count": 6,
   "id": "eca47582",
   "metadata": {},
   "outputs": [
    {
     "name": "stdout",
     "output_type": "stream",
     "text": [
      "[1, 2, 3, 4, 5, 6, 7, 8, 9, 10]\n"
     ]
    }
   ],
   "source": [
    "nums=[1,3,5,7,9,2,4,6,8]\n",
    "n=5\n",
    "numlist=[]\n",
    "for i in range(n):\n",
    "    numlist.append(nums[i])\n",
    "    numlist.append(nums[i+n])\n",
    "print(numlist)"
   ]
  },
  {
   "cell_type": "code",
   "execution_count": null,
   "id": "11532c49",
   "metadata": {},
   "outputs": [],
   "source": [
    "# # problemmm\n",
    "# nums = [1,2,3,4,1,2,3,4]\n",
    "# num1 = []\n",
    "# num2 = []\n",
    "# c = len(nums)\n",
    "# ch = (c/2)-1\n",
    "# chh = c/2\n",
    "# print(c,ch,chh)\n",
    "# for i in range(0, len(nums)):\n",
    "#     num1.append(element)\n",
    "# for i in range(4,c):\n",
    "#     num2.append(element)\n",
    "# print(list(set(num1).union(num2)))\n",
    "\n",
    "# nums = [1,2,3,4,1,2,3,4]\n",
    "# num1 = []\n",
    "# num2 = []\n",
    "\n",
    "# for i in range(0,len(nums)):   \n",
    "\n",
    "            \n",
    "# #print(num1)            \n",
    "# #print(list(set(num1).union(num2))"
   ]
  },
  {
   "cell_type": "markdown",
   "id": "e0268fb9",
   "metadata": {},
   "source": [
    "# Richest Customer"
   ]
  },
  {
   "cell_type": "code",
   "execution_count": 104,
   "id": "2abb196f",
   "metadata": {},
   "outputs": [
    {
     "name": "stdout",
     "output_type": "stream",
     "text": [
      "26\n"
     ]
    }
   ],
   "source": [
    "accounts = [[1,2,3],[2,3,4],[3,4,5],[4,5,6],[5,6,7,8]]\n",
    "account=[]\n",
    "\n",
    "for i in accounts:\n",
    "    total=0\n",
    "    for x in range(len(i)):\n",
    "        total+=i[x]\n",
    "        #print(total)\n",
    "    account.append(total)\n",
    "    #print(account)\n",
    "    \n",
    "print (max(account))\n",
    "    "
   ]
  }
 ],
 "metadata": {
  "kernelspec": {
   "display_name": "Python 3",
   "language": "python",
   "name": "python3"
  },
  "language_info": {
   "codemirror_mode": {
    "name": "ipython",
    "version": 3
   },
   "file_extension": ".py",
   "mimetype": "text/x-python",
   "name": "python",
   "nbconvert_exporter": "python",
   "pygments_lexer": "ipython3",
   "version": "3.8.8"
  }
 },
 "nbformat": 4,
 "nbformat_minor": 5
}
